{
 "metadata": {
  "language_info": {
   "codemirror_mode": {
    "name": "ipython",
    "version": 3
   },
   "file_extension": ".py",
   "mimetype": "text/x-python",
   "name": "python",
   "nbconvert_exporter": "python",
   "pygments_lexer": "ipython3",
   "version": "3.7.4-final"
  },
  "orig_nbformat": 2,
  "kernelspec": {
   "name": "python3",
   "display_name": "Python 3"
  }
 },
 "nbformat": 4,
 "nbformat_minor": 2,
 "cells": [
  {
   "cell_type": "code",
   "execution_count": 136,
   "metadata": {},
   "outputs": [],
   "source": [
    "#importing libraries\n",
    "import numpy as np\n",
    "import pandas as pd\n",
    "import matplotlib.pyplot as plt\n",
    "import seaborn as sns\n",
    "from sklearn.model_selection import StratifiedShuffleSplit\n",
    "\n",
    "import warnings\n",
    "warnings.filterwarnings('ignore')"
   ]
  },
  {
   "cell_type": "code",
   "execution_count": 137,
   "metadata": {},
   "outputs": [],
   "source": [
    "columns = ['MPG', 'Cylinders', 'Displacement', 'Horsepower', 'Weight', 'Acceleration', 'Model Year', 'Origin']\n",
    "\n",
    "df = pd.read_csv('./auto-mpg.data', names = columns, na_values = \"?\", comment = '\\t', sep = \" \", skipinitialspace = True)\n",
    "\n",
    "data = df.copy()"
   ]
  },
  {
   "cell_type": "code",
   "execution_count": 138,
   "metadata": {},
   "outputs": [],
   "source": [
    "#set aside test data via stratified sampling (homogenous group with the right number of instances of eahc sub-group). From the correlation found in EDA, the cylinder column can be used to create the strate \n",
    "\n",
    "split = StratifiedShuffleSplit(n_splits = 1, test_size = 0.2, random_state = 42)\n",
    "\n",
    "for train_index, test_index, in split.split(data, data[\"Cylinders\"]):\n",
    "    strat_train_set = data.loc[train_index]\n",
    "    strat_test_set = data.loc[test_index]"
   ]
  },
  {
   "cell_type": "code",
   "execution_count": 139,
   "metadata": {},
   "outputs": [],
   "source": [
    "#Separating feature variables and target variables\n",
    "data = strat_train_set.drop(\"MPG\", axis = 1)\n",
    "data_labels = strat_train_set[\"MPG\"].copy()"
   ]
  },
  {
   "cell_type": "code",
   "execution_count": 140,
   "metadata": {},
   "outputs": [
    {
     "output_type": "execute_result",
     "data": {
      "text/plain": "     Cylinders  Displacement  Horsepower  Weight  Acceleration  Model Year  \\\n145          4          83.0        61.0  2003.0          19.0          74   \n151          4          79.0        67.0  2000.0          16.0          74   \n388          4         156.0        92.0  2585.0          14.5          82   \n48           6         250.0        88.0  3139.0          14.5          71   \n114          4          98.0        90.0  2265.0          15.5          73   \n..         ...           ...         ...     ...           ...         ...   \n147          4          90.0        75.0  2108.0          15.5          74   \n156          8         400.0       170.0  4668.0          11.5          75   \n395          4         135.0        84.0  2295.0          11.6          82   \n14           4         113.0        95.0  2372.0          15.0          70   \n362          6         146.0       120.0  2930.0          13.8          81   \n\n     Origin  \n145       3  \n151       2  \n388       1  \n48        1  \n114       2  \n..      ...  \n147       2  \n156       1  \n395       1  \n14        3  \n362       3  \n\n[318 rows x 7 columns]",
      "text/html": "<div>\n<style scoped>\n    .dataframe tbody tr th:only-of-type {\n        vertical-align: middle;\n    }\n\n    .dataframe tbody tr th {\n        vertical-align: top;\n    }\n\n    .dataframe thead th {\n        text-align: right;\n    }\n</style>\n<table border=\"1\" class=\"dataframe\">\n  <thead>\n    <tr style=\"text-align: right;\">\n      <th></th>\n      <th>Cylinders</th>\n      <th>Displacement</th>\n      <th>Horsepower</th>\n      <th>Weight</th>\n      <th>Acceleration</th>\n      <th>Model Year</th>\n      <th>Origin</th>\n    </tr>\n  </thead>\n  <tbody>\n    <tr>\n      <td>145</td>\n      <td>4</td>\n      <td>83.0</td>\n      <td>61.0</td>\n      <td>2003.0</td>\n      <td>19.0</td>\n      <td>74</td>\n      <td>3</td>\n    </tr>\n    <tr>\n      <td>151</td>\n      <td>4</td>\n      <td>79.0</td>\n      <td>67.0</td>\n      <td>2000.0</td>\n      <td>16.0</td>\n      <td>74</td>\n      <td>2</td>\n    </tr>\n    <tr>\n      <td>388</td>\n      <td>4</td>\n      <td>156.0</td>\n      <td>92.0</td>\n      <td>2585.0</td>\n      <td>14.5</td>\n      <td>82</td>\n      <td>1</td>\n    </tr>\n    <tr>\n      <td>48</td>\n      <td>6</td>\n      <td>250.0</td>\n      <td>88.0</td>\n      <td>3139.0</td>\n      <td>14.5</td>\n      <td>71</td>\n      <td>1</td>\n    </tr>\n    <tr>\n      <td>114</td>\n      <td>4</td>\n      <td>98.0</td>\n      <td>90.0</td>\n      <td>2265.0</td>\n      <td>15.5</td>\n      <td>73</td>\n      <td>2</td>\n    </tr>\n    <tr>\n      <td>...</td>\n      <td>...</td>\n      <td>...</td>\n      <td>...</td>\n      <td>...</td>\n      <td>...</td>\n      <td>...</td>\n      <td>...</td>\n    </tr>\n    <tr>\n      <td>147</td>\n      <td>4</td>\n      <td>90.0</td>\n      <td>75.0</td>\n      <td>2108.0</td>\n      <td>15.5</td>\n      <td>74</td>\n      <td>2</td>\n    </tr>\n    <tr>\n      <td>156</td>\n      <td>8</td>\n      <td>400.0</td>\n      <td>170.0</td>\n      <td>4668.0</td>\n      <td>11.5</td>\n      <td>75</td>\n      <td>1</td>\n    </tr>\n    <tr>\n      <td>395</td>\n      <td>4</td>\n      <td>135.0</td>\n      <td>84.0</td>\n      <td>2295.0</td>\n      <td>11.6</td>\n      <td>82</td>\n      <td>1</td>\n    </tr>\n    <tr>\n      <td>14</td>\n      <td>4</td>\n      <td>113.0</td>\n      <td>95.0</td>\n      <td>2372.0</td>\n      <td>15.0</td>\n      <td>70</td>\n      <td>3</td>\n    </tr>\n    <tr>\n      <td>362</td>\n      <td>6</td>\n      <td>146.0</td>\n      <td>120.0</td>\n      <td>2930.0</td>\n      <td>13.8</td>\n      <td>81</td>\n      <td>3</td>\n    </tr>\n  </tbody>\n</table>\n<p>318 rows × 7 columns</p>\n</div>"
     },
     "metadata": {},
     "execution_count": 140
    }
   ],
   "source": [
    "data"
   ]
  },
  {
   "cell_type": "code",
   "execution_count": 141,
   "metadata": {},
   "outputs": [
    {
     "output_type": "execute_result",
     "data": {
      "text/plain": "     Cylinders  Displacement  Horsepower  Weight  Acceleration  Model Year  \\\n145          4          83.0        61.0  2003.0          19.0          74   \n151          4          79.0        67.0  2000.0          16.0          74   \n388          4         156.0        92.0  2585.0          14.5          82   \n48           6         250.0        88.0  3139.0          14.5          71   \n114          4          98.0        90.0  2265.0          15.5          73   \n\n      Origin  \n145  Germany  \n151      USA  \n388    India  \n48     India  \n114      USA  ",
      "text/html": "<div>\n<style scoped>\n    .dataframe tbody tr th:only-of-type {\n        vertical-align: middle;\n    }\n\n    .dataframe tbody tr th {\n        vertical-align: top;\n    }\n\n    .dataframe thead th {\n        text-align: right;\n    }\n</style>\n<table border=\"1\" class=\"dataframe\">\n  <thead>\n    <tr style=\"text-align: right;\">\n      <th></th>\n      <th>Cylinders</th>\n      <th>Displacement</th>\n      <th>Horsepower</th>\n      <th>Weight</th>\n      <th>Acceleration</th>\n      <th>Model Year</th>\n      <th>Origin</th>\n    </tr>\n  </thead>\n  <tbody>\n    <tr>\n      <td>145</td>\n      <td>4</td>\n      <td>83.0</td>\n      <td>61.0</td>\n      <td>2003.0</td>\n      <td>19.0</td>\n      <td>74</td>\n      <td>Germany</td>\n    </tr>\n    <tr>\n      <td>151</td>\n      <td>4</td>\n      <td>79.0</td>\n      <td>67.0</td>\n      <td>2000.0</td>\n      <td>16.0</td>\n      <td>74</td>\n      <td>USA</td>\n    </tr>\n    <tr>\n      <td>388</td>\n      <td>4</td>\n      <td>156.0</td>\n      <td>92.0</td>\n      <td>2585.0</td>\n      <td>14.5</td>\n      <td>82</td>\n      <td>India</td>\n    </tr>\n    <tr>\n      <td>48</td>\n      <td>6</td>\n      <td>250.0</td>\n      <td>88.0</td>\n      <td>3139.0</td>\n      <td>14.5</td>\n      <td>71</td>\n      <td>India</td>\n    </tr>\n    <tr>\n      <td>114</td>\n      <td>4</td>\n      <td>98.0</td>\n      <td>90.0</td>\n      <td>2265.0</td>\n      <td>15.5</td>\n      <td>73</td>\n      <td>USA</td>\n    </tr>\n  </tbody>\n</table>\n</div>"
     },
     "metadata": {},
     "execution_count": 141
    }
   ],
   "source": [
    "#preprocessing the origin column\n",
    "def preprocess_origin_column(df):\n",
    "    df[\"Origin\"] = df[\"Origin\"].map({1: \"India\", 2: \"USA\", 3: \"Germany\"})\n",
    "    return df\n",
    "data_tr = preprocess_origin_column(data)\n",
    "data_tr.head()"
   ]
  },
  {
   "cell_type": "code",
   "execution_count": 142,
   "metadata": {
    "tags": []
   },
   "outputs": [
    {
     "output_type": "stream",
     "name": "stdout",
     "text": "<class 'pandas.core.frame.DataFrame'>\nInt64Index: 318 entries, 145 to 362\nData columns (total 7 columns):\nCylinders       318 non-null int64\nDisplacement    318 non-null float64\nHorsepower      314 non-null float64\nWeight          318 non-null float64\nAcceleration    318 non-null float64\nModel Year      318 non-null int64\nOrigin          318 non-null object\ndtypes: float64(4), int64(2), object(1)\nmemory usage: 19.9+ KB\n"
    }
   ],
   "source": [
    "#One Hot Encoding the origin column from the preprocessed data\n",
    "data_tr.info()"
   ]
  },
  {
   "cell_type": "code",
   "execution_count": 143,
   "metadata": {},
   "outputs": [
    {
     "output_type": "execute_result",
     "data": {
      "text/plain": "      Origin\n145  Germany\n151      USA\n388    India\n48     India\n114      USA",
      "text/html": "<div>\n<style scoped>\n    .dataframe tbody tr th:only-of-type {\n        vertical-align: middle;\n    }\n\n    .dataframe tbody tr th {\n        vertical-align: top;\n    }\n\n    .dataframe thead th {\n        text-align: right;\n    }\n</style>\n<table border=\"1\" class=\"dataframe\">\n  <thead>\n    <tr style=\"text-align: right;\">\n      <th></th>\n      <th>Origin</th>\n    </tr>\n  </thead>\n  <tbody>\n    <tr>\n      <td>145</td>\n      <td>Germany</td>\n    </tr>\n    <tr>\n      <td>151</td>\n      <td>USA</td>\n    </tr>\n    <tr>\n      <td>388</td>\n      <td>India</td>\n    </tr>\n    <tr>\n      <td>48</td>\n      <td>India</td>\n    </tr>\n    <tr>\n      <td>114</td>\n      <td>USA</td>\n    </tr>\n  </tbody>\n</table>\n</div>"
     },
     "metadata": {},
     "execution_count": 143
    }
   ],
   "source": [
    "#isolating the origin column because of data type \"object\". it is a categorical column that needs to be deal with \n",
    "data_category = data_tr[[\"Origin\"]]\n",
    "data_category.head()"
   ]
  },
  {
   "cell_type": "code",
   "execution_count": 144,
   "metadata": {},
   "outputs": [
    {
     "output_type": "execute_result",
     "data": {
      "text/plain": "<318x3 sparse matrix of type '<class 'numpy.float64'>'\n\twith 318 stored elements in Compressed Sparse Row format>"
     },
     "metadata": {},
     "execution_count": 144
    }
   ],
   "source": [
    "#One hot encoding the categorical values\n",
    "from sklearn.preprocessing import OneHotEncoder\n",
    "\n",
    "category_encoder = OneHotEncoder()\n",
    "data_category_1hot = category_encoder.fit_transform(data_category)\n",
    "data_category_1hot"
   ]
  },
  {
   "cell_type": "code",
   "execution_count": 145,
   "metadata": {},
   "outputs": [
    {
     "output_type": "execute_result",
     "data": {
      "text/plain": "array([[1., 0., 0.],\n       [0., 0., 1.],\n       [0., 1., 0.],\n       [0., 1., 0.],\n       [0., 0., 1.]])"
     },
     "metadata": {},
     "execution_count": 145
    }
   ],
   "source": [
    "#converting the sparse matrix into a numpy array. This example just checks the top five roles \n",
    "data_category_1hot.toarray()[:5]"
   ]
  },
  {
   "cell_type": "code",
   "execution_count": 146,
   "metadata": {},
   "outputs": [
    {
     "output_type": "execute_result",
     "data": {
      "text/plain": "[array(['Germany', 'India', 'USA'], dtype=object)]"
     },
     "metadata": {},
     "execution_count": 146
    }
   ],
   "source": [
    "category_encoder.categories_"
   ]
  },
  {
   "cell_type": "code",
   "execution_count": 147,
   "metadata": {
    "tags": []
   },
   "outputs": [
    {
     "output_type": "stream",
     "name": "stdout",
     "text": "<class 'pandas.core.frame.DataFrame'>\nInt64Index: 318 entries, 145 to 362\nData columns (total 6 columns):\nCylinders       318 non-null int64\nDisplacement    318 non-null float64\nHorsepower      314 non-null float64\nWeight          318 non-null float64\nAcceleration    318 non-null float64\nModel Year      318 non-null int64\ndtypes: float64(4), int64(2)\nmemory usage: 17.4 KB\n"
    }
   ],
   "source": [
    "#Handling missing values using SimpleImputer\n",
    "#Segregating the numerical columns\n",
    "numerical_data = data.iloc[:, :-1]\n",
    "numerical_data.info()"
   ]
  },
  {
   "cell_type": "code",
   "execution_count": 148,
   "metadata": {},
   "outputs": [
    {
     "output_type": "execute_result",
     "data": {
      "text/plain": "SimpleImputer(add_indicator=False, copy=True, fill_value=None,\n              missing_values=nan, strategy='median', verbose=0)"
     },
     "metadata": {},
     "execution_count": 148
    }
   ],
   "source": [
    "#handling missing values\n",
    "from sklearn.impute import SimpleImputer\n",
    "\n",
    "imputer = SimpleImputer(strategy = \"median\")\n",
    "imputer.fit(numerical_data)"
   ]
  },
  {
   "cell_type": "code",
   "execution_count": 149,
   "metadata": {},
   "outputs": [
    {
     "output_type": "execute_result",
     "data": {
      "text/plain": "array([   4. ,  146. ,   92. , 2844. ,   15.5,   76. ])"
     },
     "metadata": {},
     "execution_count": 149
    }
   ],
   "source": [
    "#median of all the columns from the imputer\n",
    "imputer.statistics_"
   ]
  },
  {
   "cell_type": "code",
   "execution_count": 150,
   "metadata": {},
   "outputs": [],
   "source": [
    "#the values above are the medians of all the six columns above "
   ]
  },
  {
   "cell_type": "code",
   "execution_count": 151,
   "metadata": {},
   "outputs": [
    {
     "output_type": "execute_result",
     "data": {
      "text/plain": "array([   4. ,  146. ,   92. , 2844. ,   15.5,   76. ])"
     },
     "metadata": {},
     "execution_count": 151
    }
   ],
   "source": [
    "#checking median from the pandas dataframe \n",
    "data.median().values"
   ]
  },
  {
   "cell_type": "code",
   "execution_count": 152,
   "metadata": {},
   "outputs": [
    {
     "output_type": "execute_result",
     "data": {
      "text/plain": "array([[   4. ,   83. ,   61. , 2003. ,   19. ,   74. ],\n       [   4. ,   79. ,   67. , 2000. ,   16. ,   74. ],\n       [   4. ,  156. ,   92. , 2585. ,   14.5,   82. ],\n       ...,\n       [   4. ,  135. ,   84. , 2295. ,   11.6,   82. ],\n       [   4. ,  113. ,   95. , 2372. ,   15. ,   70. ],\n       [   6. ,  146. ,  120. , 2930. ,   13.8,   81. ]])"
     },
     "metadata": {},
     "execution_count": 152
    }
   ],
   "source": [
    "#impute the missing values by transforming the dataframe \n",
    "X = imputer.transform(numerical_data)\n",
    "X "
   ]
  },
  {
   "cell_type": "code",
   "execution_count": 153,
   "metadata": {
    "tags": []
   },
   "outputs": [
    {
     "output_type": "stream",
     "name": "stdout",
     "text": "<class 'pandas.core.frame.DataFrame'>\nInt64Index: 318 entries, 145 to 362\nData columns (total 6 columns):\nCylinders       318 non-null float64\nDisplacement    318 non-null float64\nHorsepower      318 non-null float64\nWeight          318 non-null float64\nAcceleration    318 non-null float64\nModel Year      318 non-null float64\ndtypes: float64(6)\nmemory usage: 17.4 KB\n"
    }
   ],
   "source": [
    "#convert the 2D array back into a dataframe\n",
    "data_tr = pd.DataFrame(X, columns = numerical_data.columns, index = numerical_data.index)\n",
    "data_tr.info()"
   ]
  },
  {
   "cell_type": "code",
   "execution_count": 154,
   "metadata": {},
   "outputs": [],
   "source": [
    "#Horsepower no longer has the missing values "
   ]
  },
  {
   "cell_type": "code",
   "execution_count": 155,
   "metadata": {},
   "outputs": [],
   "source": [
    "#Adding attributes acceleration_on_power and acceleration_on_cylinder using BaseEstimator and Transformer"
   ]
  },
  {
   "cell_type": "code",
   "execution_count": 156,
   "metadata": {},
   "outputs": [
    {
     "output_type": "execute_result",
     "data": {
      "text/plain": "     Cylinders  Displacement  Horsepower  Weight  Acceleration  Model Year\n145          4          83.0        61.0  2003.0          19.0          74\n151          4          79.0        67.0  2000.0          16.0          74\n388          4         156.0        92.0  2585.0          14.5          82\n48           6         250.0        88.0  3139.0          14.5          71\n114          4          98.0        90.0  2265.0          15.5          73",
      "text/html": "<div>\n<style scoped>\n    .dataframe tbody tr th:only-of-type {\n        vertical-align: middle;\n    }\n\n    .dataframe tbody tr th {\n        vertical-align: top;\n    }\n\n    .dataframe thead th {\n        text-align: right;\n    }\n</style>\n<table border=\"1\" class=\"dataframe\">\n  <thead>\n    <tr style=\"text-align: right;\">\n      <th></th>\n      <th>Cylinders</th>\n      <th>Displacement</th>\n      <th>Horsepower</th>\n      <th>Weight</th>\n      <th>Acceleration</th>\n      <th>Model Year</th>\n    </tr>\n  </thead>\n  <tbody>\n    <tr>\n      <td>145</td>\n      <td>4</td>\n      <td>83.0</td>\n      <td>61.0</td>\n      <td>2003.0</td>\n      <td>19.0</td>\n      <td>74</td>\n    </tr>\n    <tr>\n      <td>151</td>\n      <td>4</td>\n      <td>79.0</td>\n      <td>67.0</td>\n      <td>2000.0</td>\n      <td>16.0</td>\n      <td>74</td>\n    </tr>\n    <tr>\n      <td>388</td>\n      <td>4</td>\n      <td>156.0</td>\n      <td>92.0</td>\n      <td>2585.0</td>\n      <td>14.5</td>\n      <td>82</td>\n    </tr>\n    <tr>\n      <td>48</td>\n      <td>6</td>\n      <td>250.0</td>\n      <td>88.0</td>\n      <td>3139.0</td>\n      <td>14.5</td>\n      <td>71</td>\n    </tr>\n    <tr>\n      <td>114</td>\n      <td>4</td>\n      <td>98.0</td>\n      <td>90.0</td>\n      <td>2265.0</td>\n      <td>15.5</td>\n      <td>73</td>\n    </tr>\n  </tbody>\n</table>\n</div>"
     },
     "metadata": {},
     "execution_count": 156
    }
   ],
   "source": [
    "numerical_data.head()"
   ]
  },
  {
   "cell_type": "code",
   "execution_count": 157,
   "metadata": {},
   "outputs": [
    {
     "output_type": "execute_result",
     "data": {
      "text/plain": "array([4.0000000e+00, 8.3000000e+01, 6.1000000e+01, 2.0030000e+03,\n       1.9000000e+01, 7.4000000e+01, 3.1147541e-01, 4.7500000e+00])"
     },
     "metadata": {},
     "execution_count": 157
    }
   ],
   "source": [
    "from sklearn.base import BaseEstimator, TransformerMixin\n",
    "\n",
    "acc_index, hpower_index, cyl_index = 4, 2, 0 #these are column indexes to be used later\n",
    "\n",
    "class CustomAttributeAdder(BaseEstimator, TransformerMixin):\n",
    "    def __init__(self, acc_on_power=True):\n",
    "        self.acc_on_power = acc_on_power\n",
    "    def fit(self, X, y = None): \n",
    "        return self\n",
    "    def transform(self, X): \n",
    "        acc_on_cylinder = X[:, acc_index] / X[:, cyl_index]\n",
    "        if self.acc_on_power == True:\n",
    "            acc_on_power = X[:, acc_index] / X[:, hpower_index]\n",
    "            return np.c_[X, acc_on_power, acc_on_cylinder]\n",
    "        return np.c_[X, acc_on_cylinder] \n",
    "\n",
    "attritbute_adder = CustomAttributeAdder(acc_on_power=True)\n",
    "data_tr_extra_attributes = attritbute_adder.transform(data_tr.values)\n",
    "data_tr_extra_attributes[0] \n"
   ]
  },
  {
   "cell_type": "code",
   "execution_count": 158,
   "metadata": {},
   "outputs": [],
   "source": [
    "#Creating a pipeline of tasks to scale all the attributes\n",
    "from sklearn.pipeline import Pipeline\n",
    "from sklearn.preprocessing import StandardScaler"
   ]
  },
  {
   "cell_type": "code",
   "execution_count": 159,
   "metadata": {},
   "outputs": [],
   "source": [
    "#tansforming numerical attributes"
   ]
  },
  {
   "cell_type": "code",
   "execution_count": 160,
   "metadata": {},
   "outputs": [
    {
     "output_type": "execute_result",
     "data": {
      "text/plain": "array([-0.85657842, -1.07804475, -1.15192977, -1.17220298,  1.21586943,\n       -0.54436373,  1.70952741,  1.29565517])"
     },
     "metadata": {},
     "execution_count": 160
    }
   ],
   "source": [
    "numerics = ['float64', 'int64']\n",
    "\n",
    "num_data = data_tr.select_dtypes(include = numerics)\n",
    "\n",
    "num_pipeline = Pipeline([ \n",
    "    ('imputer', SimpleImputer(strategy = \"median\")),\n",
    "    ('attrs_adder', CustomAttributeAdder()),\n",
    "    ('std_scaler', StandardScaler())\n",
    "])\n",
    "\n",
    "num_data_transform = num_pipeline.fit_transform(num_data)\n",
    "\n",
    "num_data_transform[0]"
   ]
  },
  {
   "cell_type": "code",
   "execution_count": 161,
   "metadata": {},
   "outputs": [],
   "source": [
    "#transforming categorical attributes\n",
    "from sklearn.compose import ColumnTransformer"
   ]
  },
  {
   "cell_type": "code",
   "execution_count": 163,
   "metadata": {},
   "outputs": [
    {
     "output_type": "execute_result",
     "data": {
      "text/plain": "array([[-0.85657842, -1.07804475, -1.15192977, ...,  1.        ,\n         0.        ,  0.        ],\n       [-0.85657842, -1.1174582 , -0.9900351 , ...,  0.        ,\n         0.        ,  1.        ],\n       [-0.85657842, -0.3587492 , -0.31547399, ...,  0.        ,\n         1.        ,  0.        ],\n       ...,\n       [-0.85657842, -0.56566984, -0.53133355, ...,  0.        ,\n         1.        ,  0.        ],\n       [-0.85657842, -0.78244384, -0.23452666, ...,  1.        ,\n         0.        ,  0.        ],\n       [ 0.32260746, -0.45728283,  0.44003446, ...,  1.        ,\n         0.        ,  0.        ]])"
     },
     "metadata": {},
     "execution_count": 163
    }
   ],
   "source": [
    "numerical_attributes = list(num_data)\n",
    "categorical_attributes = [\"Origin\"]\n",
    "\n",
    "full_pipeline = ColumnTransformer([ \n",
    "    (\"num\", num_pipeline, numerical_attributes),\n",
    "    (\"cat\", OneHotEncoder(), categorical_attributes)\n",
    "])\n",
    "\n",
    "prepared_data = full_pipeline.fit_transform(data)\n",
    "prepared_data"
   ]
  },
  {
   "cell_type": "code",
   "execution_count": null,
   "metadata": {},
   "outputs": [],
   "source": []
  }
 ]
}