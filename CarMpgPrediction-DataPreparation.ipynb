{
 "metadata": {
  "language_info": {
   "codemirror_mode": {
    "name": "ipython",
    "version": 3
   },
   "file_extension": ".py",
   "mimetype": "text/x-python",
   "name": "python",
   "nbconvert_exporter": "python",
   "pygments_lexer": "ipython3",
   "version": "3.7.4-final"
  },
  "orig_nbformat": 2,
  "kernelspec": {
   "name": "python3",
   "display_name": "Python 3"
  }
 },
 "nbformat": 4,
 "nbformat_minor": 2,
 "cells": [
  {
   "cell_type": "code",
   "execution_count": 2,
   "metadata": {},
   "outputs": [],
   "source": [
    "#importing libraries\n",
    "import numpy as np\n",
    "import pandas as pd\n",
    "import matplotlib.pyplot as plt\n",
    "import seaborn as sns\n",
    "from sklearn.model_selection import StratifiedShuffleSplit\n",
    "\n",
    "import warnings\n",
    "warnings.filterwarnings('ignore')"
   ]
  },
  {
   "cell_type": "code",
   "execution_count": 3,
   "metadata": {},
   "outputs": [],
   "source": [
    "columns = ['MPG', 'Cylinders', 'Displacement', 'Horsepower', 'Weight', 'Acceleration', 'Model Year', 'Origin']\n",
    "\n",
    "df = pd.read_csv('./auto-mpg.data', names = columns, na_values = \"?\", comment = '\\t', sep = \" \", skipinitialspace = True)\n",
    "\n",
    "data = df.copy()"
   ]
  },
  {
   "cell_type": "code",
   "execution_count": 5,
   "metadata": {},
   "outputs": [],
   "source": [
    "#set aside test data via stratified sampling (homogenous group with the right number of instances of eahc sub-group). From the correlation found in EDA, the cylinder column can be used to create the strate \n",
    "\n",
    "split = StratifiedShuffleSplit(n_splits = 1, test_size = 0.2, random_state = 42)\n",
    "\n",
    "for train_index, test_index, in split.split(data, data[\"Cylinders\"]):\n",
    "    strat_train_set = data.loc[train_index]\n",
    "    strat_test_set = data.loc[test_index]"
   ]
  },
  {
   "cell_type": "code",
   "execution_count": 6,
   "metadata": {},
   "outputs": [],
   "source": [
    "#Separating feature variables and target variables\n",
    "data = strat_train_set.drop(\"MPG\", axis = 1)\n",
    "data_labels = strat_train_set[\"MPG\"].copy()"
   ]
  },
  {
   "cell_type": "code",
   "execution_count": 7,
   "metadata": {},
   "outputs": [
    {
     "output_type": "execute_result",
     "data": {
      "text/plain": "     Cylinders  Displacement  Horsepower  Weight  Acceleration  Model Year  \\\n145          4          83.0        61.0  2003.0          19.0          74   \n151          4          79.0        67.0  2000.0          16.0          74   \n388          4         156.0        92.0  2585.0          14.5          82   \n48           6         250.0        88.0  3139.0          14.5          71   \n114          4          98.0        90.0  2265.0          15.5          73   \n..         ...           ...         ...     ...           ...         ...   \n147          4          90.0        75.0  2108.0          15.5          74   \n156          8         400.0       170.0  4668.0          11.5          75   \n395          4         135.0        84.0  2295.0          11.6          82   \n14           4         113.0        95.0  2372.0          15.0          70   \n362          6         146.0       120.0  2930.0          13.8          81   \n\n     Origin  \n145       3  \n151       2  \n388       1  \n48        1  \n114       2  \n..      ...  \n147       2  \n156       1  \n395       1  \n14        3  \n362       3  \n\n[318 rows x 7 columns]",
      "text/html": "<div>\n<style scoped>\n    .dataframe tbody tr th:only-of-type {\n        vertical-align: middle;\n    }\n\n    .dataframe tbody tr th {\n        vertical-align: top;\n    }\n\n    .dataframe thead th {\n        text-align: right;\n    }\n</style>\n<table border=\"1\" class=\"dataframe\">\n  <thead>\n    <tr style=\"text-align: right;\">\n      <th></th>\n      <th>Cylinders</th>\n      <th>Displacement</th>\n      <th>Horsepower</th>\n      <th>Weight</th>\n      <th>Acceleration</th>\n      <th>Model Year</th>\n      <th>Origin</th>\n    </tr>\n  </thead>\n  <tbody>\n    <tr>\n      <td>145</td>\n      <td>4</td>\n      <td>83.0</td>\n      <td>61.0</td>\n      <td>2003.0</td>\n      <td>19.0</td>\n      <td>74</td>\n      <td>3</td>\n    </tr>\n    <tr>\n      <td>151</td>\n      <td>4</td>\n      <td>79.0</td>\n      <td>67.0</td>\n      <td>2000.0</td>\n      <td>16.0</td>\n      <td>74</td>\n      <td>2</td>\n    </tr>\n    <tr>\n      <td>388</td>\n      <td>4</td>\n      <td>156.0</td>\n      <td>92.0</td>\n      <td>2585.0</td>\n      <td>14.5</td>\n      <td>82</td>\n      <td>1</td>\n    </tr>\n    <tr>\n      <td>48</td>\n      <td>6</td>\n      <td>250.0</td>\n      <td>88.0</td>\n      <td>3139.0</td>\n      <td>14.5</td>\n      <td>71</td>\n      <td>1</td>\n    </tr>\n    <tr>\n      <td>114</td>\n      <td>4</td>\n      <td>98.0</td>\n      <td>90.0</td>\n      <td>2265.0</td>\n      <td>15.5</td>\n      <td>73</td>\n      <td>2</td>\n    </tr>\n    <tr>\n      <td>...</td>\n      <td>...</td>\n      <td>...</td>\n      <td>...</td>\n      <td>...</td>\n      <td>...</td>\n      <td>...</td>\n      <td>...</td>\n    </tr>\n    <tr>\n      <td>147</td>\n      <td>4</td>\n      <td>90.0</td>\n      <td>75.0</td>\n      <td>2108.0</td>\n      <td>15.5</td>\n      <td>74</td>\n      <td>2</td>\n    </tr>\n    <tr>\n      <td>156</td>\n      <td>8</td>\n      <td>400.0</td>\n      <td>170.0</td>\n      <td>4668.0</td>\n      <td>11.5</td>\n      <td>75</td>\n      <td>1</td>\n    </tr>\n    <tr>\n      <td>395</td>\n      <td>4</td>\n      <td>135.0</td>\n      <td>84.0</td>\n      <td>2295.0</td>\n      <td>11.6</td>\n      <td>82</td>\n      <td>1</td>\n    </tr>\n    <tr>\n      <td>14</td>\n      <td>4</td>\n      <td>113.0</td>\n      <td>95.0</td>\n      <td>2372.0</td>\n      <td>15.0</td>\n      <td>70</td>\n      <td>3</td>\n    </tr>\n    <tr>\n      <td>362</td>\n      <td>6</td>\n      <td>146.0</td>\n      <td>120.0</td>\n      <td>2930.0</td>\n      <td>13.8</td>\n      <td>81</td>\n      <td>3</td>\n    </tr>\n  </tbody>\n</table>\n<p>318 rows × 7 columns</p>\n</div>"
     },
     "metadata": {},
     "execution_count": 7
    }
   ],
   "source": [
    "data"
   ]
  },
  {
   "cell_type": "code",
   "execution_count": 9,
   "metadata": {},
   "outputs": [
    {
     "output_type": "execute_result",
     "data": {
      "text/plain": "     Cylinders  Displacement  Horsepower  Weight  Acceleration  Model Year  \\\n145          4          83.0        61.0  2003.0          19.0          74   \n151          4          79.0        67.0  2000.0          16.0          74   \n388          4         156.0        92.0  2585.0          14.5          82   \n48           6         250.0        88.0  3139.0          14.5          71   \n114          4          98.0        90.0  2265.0          15.5          73   \n\n      Origin  \n145  Germany  \n151      USA  \n388    India  \n48     India  \n114      USA  ",
      "text/html": "<div>\n<style scoped>\n    .dataframe tbody tr th:only-of-type {\n        vertical-align: middle;\n    }\n\n    .dataframe tbody tr th {\n        vertical-align: top;\n    }\n\n    .dataframe thead th {\n        text-align: right;\n    }\n</style>\n<table border=\"1\" class=\"dataframe\">\n  <thead>\n    <tr style=\"text-align: right;\">\n      <th></th>\n      <th>Cylinders</th>\n      <th>Displacement</th>\n      <th>Horsepower</th>\n      <th>Weight</th>\n      <th>Acceleration</th>\n      <th>Model Year</th>\n      <th>Origin</th>\n    </tr>\n  </thead>\n  <tbody>\n    <tr>\n      <td>145</td>\n      <td>4</td>\n      <td>83.0</td>\n      <td>61.0</td>\n      <td>2003.0</td>\n      <td>19.0</td>\n      <td>74</td>\n      <td>Germany</td>\n    </tr>\n    <tr>\n      <td>151</td>\n      <td>4</td>\n      <td>79.0</td>\n      <td>67.0</td>\n      <td>2000.0</td>\n      <td>16.0</td>\n      <td>74</td>\n      <td>USA</td>\n    </tr>\n    <tr>\n      <td>388</td>\n      <td>4</td>\n      <td>156.0</td>\n      <td>92.0</td>\n      <td>2585.0</td>\n      <td>14.5</td>\n      <td>82</td>\n      <td>India</td>\n    </tr>\n    <tr>\n      <td>48</td>\n      <td>6</td>\n      <td>250.0</td>\n      <td>88.0</td>\n      <td>3139.0</td>\n      <td>14.5</td>\n      <td>71</td>\n      <td>India</td>\n    </tr>\n    <tr>\n      <td>114</td>\n      <td>4</td>\n      <td>98.0</td>\n      <td>90.0</td>\n      <td>2265.0</td>\n      <td>15.5</td>\n      <td>73</td>\n      <td>USA</td>\n    </tr>\n  </tbody>\n</table>\n</div>"
     },
     "metadata": {},
     "execution_count": 9
    }
   ],
   "source": [
    "#preprocessing the origin column\n",
    "def preprocess_origin_column(df):\n",
    "    df[\"Origin\"] = df[\"Origin\"].map({1: \"India\", 2: \"USA\", 3: \"Germany\"})\n",
    "    return df\n",
    "data_tr = preprocess_origin_column(data)\n",
    "data_tr.head()"
   ]
  },
  {
   "cell_type": "code",
   "execution_count": 10,
   "metadata": {
    "tags": []
   },
   "outputs": [
    {
     "output_type": "stream",
     "name": "stdout",
     "text": "<class 'pandas.core.frame.DataFrame'>\nInt64Index: 318 entries, 145 to 362\nData columns (total 7 columns):\nCylinders       318 non-null int64\nDisplacement    318 non-null float64\nHorsepower      314 non-null float64\nWeight          318 non-null float64\nAcceleration    318 non-null float64\nModel Year      318 non-null int64\nOrigin          318 non-null object\ndtypes: float64(4), int64(2), object(1)\nmemory usage: 29.9+ KB\n"
    }
   ],
   "source": [
    "#One Hot Encoding the origin column from the preprocessed data\n",
    "data_tr.info()"
   ]
  },
  {
   "cell_type": "code",
   "execution_count": 12,
   "metadata": {},
   "outputs": [
    {
     "output_type": "execute_result",
     "data": {
      "text/plain": "      Origin\n145  Germany\n151      USA\n388    India\n48     India\n114      USA",
      "text/html": "<div>\n<style scoped>\n    .dataframe tbody tr th:only-of-type {\n        vertical-align: middle;\n    }\n\n    .dataframe tbody tr th {\n        vertical-align: top;\n    }\n\n    .dataframe thead th {\n        text-align: right;\n    }\n</style>\n<table border=\"1\" class=\"dataframe\">\n  <thead>\n    <tr style=\"text-align: right;\">\n      <th></th>\n      <th>Origin</th>\n    </tr>\n  </thead>\n  <tbody>\n    <tr>\n      <td>145</td>\n      <td>Germany</td>\n    </tr>\n    <tr>\n      <td>151</td>\n      <td>USA</td>\n    </tr>\n    <tr>\n      <td>388</td>\n      <td>India</td>\n    </tr>\n    <tr>\n      <td>48</td>\n      <td>India</td>\n    </tr>\n    <tr>\n      <td>114</td>\n      <td>USA</td>\n    </tr>\n  </tbody>\n</table>\n</div>"
     },
     "metadata": {},
     "execution_count": 12
    }
   ],
   "source": [
    "#isolating the origin column because of data type \"object\". it is a categorical column that needs to be deal with \n",
    "data_category = data_tr[[\"Origin\"]]\n",
    "data_category.head()"
   ]
  },
  {
   "cell_type": "code",
   "execution_count": 13,
   "metadata": {},
   "outputs": [
    {
     "output_type": "execute_result",
     "data": {
      "text/plain": "<318x3 sparse matrix of type '<class 'numpy.float64'>'\n\twith 318 stored elements in Compressed Sparse Row format>"
     },
     "metadata": {},
     "execution_count": 13
    }
   ],
   "source": [
    "#One hot encoding the categorical values\n",
    "from sklearn.preprocessing import OneHotEncoder\n",
    "\n",
    "category_encoder = OneHotEncoder()\n",
    "data_category_1hot = category_encoder.fit_transform(data_category)\n",
    "data_category_1hot"
   ]
  },
  {
   "cell_type": "code",
   "execution_count": 14,
   "metadata": {},
   "outputs": [
    {
     "output_type": "execute_result",
     "data": {
      "text/plain": "array([[1., 0., 0.],\n       [0., 0., 1.],\n       [0., 1., 0.],\n       [0., 1., 0.],\n       [0., 0., 1.]])"
     },
     "metadata": {},
     "execution_count": 14
    }
   ],
   "source": [
    "#converting the sparse matrix into a numpy array. This example just checks the top five roles \n",
    "data_category_1hot.toarray()[:5]"
   ]
  },
  {
   "cell_type": "code",
   "execution_count": 15,
   "metadata": {},
   "outputs": [
    {
     "output_type": "execute_result",
     "data": {
      "text/plain": "[array(['Germany', 'India', 'USA'], dtype=object)]"
     },
     "metadata": {},
     "execution_count": 15
    }
   ],
   "source": [
    "category_encoder.categories_"
   ]
  },
  {
   "cell_type": "code",
   "execution_count": null,
   "metadata": {},
   "outputs": [],
   "source": [
    "#Handling MIssing Values using SimpleImputer (10:32 in video)"
   ]
  }
 ]
}