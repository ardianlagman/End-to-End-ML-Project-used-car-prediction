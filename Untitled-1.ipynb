{
 "metadata": {
  "language_info": {
   "codemirror_mode": {
    "name": "ipython",
    "version": 3
   },
   "file_extension": ".py",
   "mimetype": "text/x-python",
   "name": "python",
   "nbconvert_exporter": "python",
   "pygments_lexer": "ipython3",
   "version": "3.7.4-final"
  },
  "orig_nbformat": 2,
  "kernelspec": {
   "name": "python3",
   "display_name": "Python 3"
  }
 },
 "nbformat": 4,
 "nbformat_minor": 2,
 "cells": [
  {
   "cell_type": "code",
   "execution_count": 1,
   "metadata": {},
   "outputs": [],
   "source": [
    "import numpy as np\n",
    "import pandas as pd\n",
    "import matplotlib.pyplot as plt\n",
    "import seaborn as sns\n",
    "\n",
    "from sklearn.model_selection import StratifiedShuffleSplit\n",
    "from sklearn.base import BaseEstimator, TransformerMixin\n",
    "from sklearn.pipeline import Pipeline\n",
    "\n",
    "from sklearn.impute import SimpleImputer\n",
    "from sklearn.preprocessing import StandardScaler, OneHotEncoder\n",
    "from sklearn.compose import ColumnTransformer\n",
    "\n",
    "\n",
    "\n",
    "import warnings\n",
    "warnings.filterwarnings('ignore')"
   ]
  },
  {
   "cell_type": "code",
   "execution_count": 2,
   "metadata": {},
   "outputs": [],
   "source": [
    "cols = ['MPG','Cylinders','Displacement','Horsepower','Weight',\n",
    "                'Acceleration', 'Model Year', 'Origin']\n",
    "\n",
    "df = pd.read_csv('./auto-mpg.data', names=cols, na_values = \"?\",\n",
    "                comment = '\\t',\n",
    "                sep= \" \",\n",
    "                skipinitialspace=True)\n",
    "\n",
    "data = df.copy()\n",
    "\n",
    "split = StratifiedShuffleSplit(n_splits=1, test_size=0.2, random_state=42)\n",
    "for train_index, test_index in split.split(data, data[\"Cylinders\"]):\n",
    "    strat_train_set = data.loc[train_index]\n",
    "    strat_test_set = data.loc[test_index]"
   ]
  },
  {
   "cell_type": "code",
   "execution_count": 3,
   "metadata": {},
   "outputs": [
    {
     "output_type": "execute_result",
     "data": {
      "text/plain": "     Cylinders  Displacement  Horsepower  Weight  Acceleration  Model Year  \\\n145          4          83.0        61.0  2003.0          19.0          74   \n151          4          79.0        67.0  2000.0          16.0          74   \n388          4         156.0        92.0  2585.0          14.5          82   \n48           6         250.0        88.0  3139.0          14.5          71   \n114          4          98.0        90.0  2265.0          15.5          73   \n..         ...           ...         ...     ...           ...         ...   \n147          4          90.0        75.0  2108.0          15.5          74   \n156          8         400.0       170.0  4668.0          11.5          75   \n395          4         135.0        84.0  2295.0          11.6          82   \n14           4         113.0        95.0  2372.0          15.0          70   \n362          6         146.0       120.0  2930.0          13.8          81   \n\n     Origin  \n145       3  \n151       2  \n388       1  \n48        1  \n114       2  \n..      ...  \n147       2  \n156       1  \n395       1  \n14        3  \n362       3  \n\n[318 rows x 7 columns]",
      "text/html": "<div>\n<style scoped>\n    .dataframe tbody tr th:only-of-type {\n        vertical-align: middle;\n    }\n\n    .dataframe tbody tr th {\n        vertical-align: top;\n    }\n\n    .dataframe thead th {\n        text-align: right;\n    }\n</style>\n<table border=\"1\" class=\"dataframe\">\n  <thead>\n    <tr style=\"text-align: right;\">\n      <th></th>\n      <th>Cylinders</th>\n      <th>Displacement</th>\n      <th>Horsepower</th>\n      <th>Weight</th>\n      <th>Acceleration</th>\n      <th>Model Year</th>\n      <th>Origin</th>\n    </tr>\n  </thead>\n  <tbody>\n    <tr>\n      <td>145</td>\n      <td>4</td>\n      <td>83.0</td>\n      <td>61.0</td>\n      <td>2003.0</td>\n      <td>19.0</td>\n      <td>74</td>\n      <td>3</td>\n    </tr>\n    <tr>\n      <td>151</td>\n      <td>4</td>\n      <td>79.0</td>\n      <td>67.0</td>\n      <td>2000.0</td>\n      <td>16.0</td>\n      <td>74</td>\n      <td>2</td>\n    </tr>\n    <tr>\n      <td>388</td>\n      <td>4</td>\n      <td>156.0</td>\n      <td>92.0</td>\n      <td>2585.0</td>\n      <td>14.5</td>\n      <td>82</td>\n      <td>1</td>\n    </tr>\n    <tr>\n      <td>48</td>\n      <td>6</td>\n      <td>250.0</td>\n      <td>88.0</td>\n      <td>3139.0</td>\n      <td>14.5</td>\n      <td>71</td>\n      <td>1</td>\n    </tr>\n    <tr>\n      <td>114</td>\n      <td>4</td>\n      <td>98.0</td>\n      <td>90.0</td>\n      <td>2265.0</td>\n      <td>15.5</td>\n      <td>73</td>\n      <td>2</td>\n    </tr>\n    <tr>\n      <td>...</td>\n      <td>...</td>\n      <td>...</td>\n      <td>...</td>\n      <td>...</td>\n      <td>...</td>\n      <td>...</td>\n      <td>...</td>\n    </tr>\n    <tr>\n      <td>147</td>\n      <td>4</td>\n      <td>90.0</td>\n      <td>75.0</td>\n      <td>2108.0</td>\n      <td>15.5</td>\n      <td>74</td>\n      <td>2</td>\n    </tr>\n    <tr>\n      <td>156</td>\n      <td>8</td>\n      <td>400.0</td>\n      <td>170.0</td>\n      <td>4668.0</td>\n      <td>11.5</td>\n      <td>75</td>\n      <td>1</td>\n    </tr>\n    <tr>\n      <td>395</td>\n      <td>4</td>\n      <td>135.0</td>\n      <td>84.0</td>\n      <td>2295.0</td>\n      <td>11.6</td>\n      <td>82</td>\n      <td>1</td>\n    </tr>\n    <tr>\n      <td>14</td>\n      <td>4</td>\n      <td>113.0</td>\n      <td>95.0</td>\n      <td>2372.0</td>\n      <td>15.0</td>\n      <td>70</td>\n      <td>3</td>\n    </tr>\n    <tr>\n      <td>362</td>\n      <td>6</td>\n      <td>146.0</td>\n      <td>120.0</td>\n      <td>2930.0</td>\n      <td>13.8</td>\n      <td>81</td>\n      <td>3</td>\n    </tr>\n  </tbody>\n</table>\n<p>318 rows × 7 columns</p>\n</div>"
     },
     "metadata": {},
     "execution_count": 3
    }
   ],
   "source": [
    "data = strat_train_set.drop(\"MPG\", axis=1)\n",
    "data_labels = strat_train_set[\"MPG\"].copy()\n",
    "data"
   ]
  },
  {
   "cell_type": "code",
   "execution_count": 4,
   "metadata": {},
   "outputs": [],
   "source": [
    "def preprocess_origin_cols(df):\n",
    "    df[\"Origin\"] = df[\"Origin\"].map({1: \"India\", 2: \"USA\", 3: \"Germany\"})\n",
    "    return df"
   ]
  },
  {
   "cell_type": "code",
   "execution_count": 5,
   "metadata": {},
   "outputs": [],
   "source": [
    "acc_ix, hpower_ix, cyl_ix = 4,2, 0\n",
    "\n",
    "class CustomAttrAdder(BaseEstimator, TransformerMixin):\n",
    "    def __init__(self, acc_on_power=True): # no *args or **kargs\n",
    "        self.acc_on_power = acc_on_power\n",
    "    def fit(self, X, y=None):\n",
    "        return self  # nothing else to do\n",
    "    def transform(self, X):\n",
    "        acc_on_cyl = X[:, acc_ix] / X[:, cyl_ix]\n",
    "        if self.acc_on_power:\n",
    "            acc_on_power = X[:, acc_ix] / X[:, hpower_ix]\n",
    "            return np.c_[X, acc_on_power, acc_on_cyl]\n",
    "        \n",
    "        return np.c_[X, acc_on_cyl]"
   ]
  },
  {
   "cell_type": "code",
   "execution_count": 10,
   "metadata": {},
   "outputs": [],
   "source": [
    "def num_pipeline_transformer(data):\n",
    "    '''\n",
    "    Function to process numerical transformations\n",
    "    Argument:\n",
    "        data: original dataframe \n",
    "    Returns:\n",
    "        num_attrs: numerical dataframe\n",
    "        num_pipeline: numerical pipeline object\n",
    "        \n",
    "    '''\n",
    "    numerics = ['float64', 'int64']\n",
    "\n",
    "    num_attrs = data.select_dtypes(include=numerics)\n",
    "\n",
    "    num_pipeline = Pipeline([\n",
    "        ('imputer', SimpleImputer(strategy=\"median\")),\n",
    "        ('attrs_adder', CustomAttrAdder()),\n",
    "        ('std_scaler', StandardScaler()),\n",
    "        ])\n",
    "    return num_attrs, num_pipeline\n",
    "\n",
    "\n",
    "def pipeline_transformer(data):\n",
    "    '''\n",
    "    Complete transformation pipeline for both\n",
    "    nuerical and categorical data.\n",
    "    \n",
    "    Argument:\n",
    "        data: original dataframe \n",
    "    Returns:\n",
    "        prepared_data: transformed data, ready to use\n",
    "    '''\n",
    "    cat_attrs = [\"Origin\"]\n",
    "    num_attrs, num_pipeline = num_pipeline_transformer(data)\n",
    "    full_pipeline = ColumnTransformer([\n",
    "        (\"num\", num_pipeline, list(num_attrs)),\n",
    "        (\"cat\", OneHotEncoder(), cat_attrs),\n",
    "        ])\n",
    "    prepared_data = full_pipeline.fit_transform(data)\n",
    "    return prepared_data"
   ]
  },
  {
   "cell_type": "code",
   "execution_count": 11,
   "metadata": {},
   "outputs": [
    {
     "output_type": "execute_result",
     "data": {
      "text/plain": "array([[-0.85657842, -1.07804475, -1.15192977, ...,  1.        ,\n         0.        ,  0.        ],\n       [-0.85657842, -1.1174582 , -0.9900351 , ...,  0.        ,\n         0.        ,  1.        ],\n       [-0.85657842, -0.3587492 , -0.31547399, ...,  0.        ,\n         1.        ,  0.        ],\n       ...,\n       [-0.85657842, -0.56566984, -0.53133355, ...,  0.        ,\n         1.        ,  0.        ],\n       [-0.85657842, -0.78244384, -0.23452666, ...,  1.        ,\n         0.        ,  0.        ],\n       [ 0.32260746, -0.45728283,  0.44003446, ...,  1.        ,\n         0.        ,  0.        ]])"
     },
     "metadata": {},
     "execution_count": 11
    }
   ],
   "source": [
    "preprocessed_df = preprocess_origin_cols(data)\n",
    "prepared_data = pipeline_transformer(preprocessed_df)\n",
    "prepared_data"
   ]
  },
  {
   "cell_type": "code",
   "execution_count": null,
   "metadata": {},
   "outputs": [],
   "source": []
  }
 ]
}