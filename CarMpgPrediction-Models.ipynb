{
 "metadata": {
  "language_info": {
   "codemirror_mode": {
    "name": "ipython",
    "version": 3
   },
   "file_extension": ".py",
   "mimetype": "text/x-python",
   "name": "python",
   "nbconvert_exporter": "python",
   "pygments_lexer": "ipython3",
   "version": "3.7.4-final"
  },
  "orig_nbformat": 2,
  "kernelspec": {
   "name": "python3",
   "display_name": "Python 3"
  }
 },
 "nbformat": 4,
 "nbformat_minor": 2,
 "cells": [
  {
   "cell_type": "code",
   "execution_count": 3,
   "metadata": {},
   "outputs": [],
   "source": [
    "#importing libraries\n",
    "import numpy as np\n",
    "import pandas as pd\n",
    "import matplotlib.pyplot as plt\n",
    "import seaborn as sns\n",
    "\n",
    "from sklearn.model_selection import StratifiedShuffleSplit\n",
    "from sklearn.base import BaseEstimator, TransformerMixin\n",
    "from sklearn.pipeline import Pipeline\n",
    "\n",
    "from sklearn.impute import SimpleImputer\n",
    "from sklearn.preprocessing import StandardScaler, OneHotEncoder\n",
    "from sklearn.compose import ColumnTransformer\n",
    "\n",
    "import warnings\n",
    "warnings.filterwarnings('ignore')"
   ]
  },
  {
   "cell_type": "code",
   "execution_count": 10,
   "metadata": {},
   "outputs": [],
   "source": [
    "#reading the .ldata file using pandas\n",
    "\n",
    "columns = [\"MPG\", \"Cylinders\", \"Displacement\", \"Horsepower\", \"Weight\", \"Aceeleration\", \"Model Year\", \"Origin\"]\n",
    "\n",
    "df = pd.read_csv(\"./auto-mpg.data\", names = columns, na_values = \"?\", comment = \"\\t\", sep = \" \", skipinitialspace = True)\n",
    "\n",
    "data = df.copy()\n",
    "\n",
    "split = StratifiedShuffleSplit(n_splits = 1, test_size = 0.2, random_state = 42)\n",
    "\n",
    "for train_index, test_index in split.split(data, data[\"Cylinders\"]):\n",
    "    strat_train_set = data.loc[train_index]\n",
    "    strat_test_set = data.loc[test_index]"
   ]
  },
  {
   "cell_type": "code",
   "execution_count": 11,
   "metadata": {},
   "outputs": [
    {
     "output_type": "execute_result",
     "data": {
      "text/plain": "     Cylinders  Displacement  Horsepower  Weight  Aceeleration  Model Year  \\\n128          6         250.0       100.0  3336.0          17.0          74   \n100          6         250.0        88.0  3021.0          16.5          73   \n330          4          85.0         NaN  1835.0          17.3          80   \n57           4         113.0        95.0  2278.0          15.5          72   \n160          6         231.0       110.0  3907.0          21.0          75   \n..         ...           ...         ...     ...           ...         ...   \n266          4          98.0        68.0  2155.0          16.5          78   \n389          6         232.0       112.0  2835.0          14.7          82   \n217          4         111.0        80.0  2155.0          14.8          77   \n66           8         304.0       150.0  3672.0          11.5          72   \n240          4          97.0        78.0  2190.0          14.1          77   \n\n     Origin  \n128       1  \n100       1  \n330       2  \n57        3  \n160       1  \n..      ...  \n266       1  \n389       1  \n217       1  \n66        1  \n240       2  \n\n[80 rows x 7 columns]",
      "text/html": "<div>\n<style scoped>\n    .dataframe tbody tr th:only-of-type {\n        vertical-align: middle;\n    }\n\n    .dataframe tbody tr th {\n        vertical-align: top;\n    }\n\n    .dataframe thead th {\n        text-align: right;\n    }\n</style>\n<table border=\"1\" class=\"dataframe\">\n  <thead>\n    <tr style=\"text-align: right;\">\n      <th></th>\n      <th>Cylinders</th>\n      <th>Displacement</th>\n      <th>Horsepower</th>\n      <th>Weight</th>\n      <th>Aceeleration</th>\n      <th>Model Year</th>\n      <th>Origin</th>\n    </tr>\n  </thead>\n  <tbody>\n    <tr>\n      <td>128</td>\n      <td>6</td>\n      <td>250.0</td>\n      <td>100.0</td>\n      <td>3336.0</td>\n      <td>17.0</td>\n      <td>74</td>\n      <td>1</td>\n    </tr>\n    <tr>\n      <td>100</td>\n      <td>6</td>\n      <td>250.0</td>\n      <td>88.0</td>\n      <td>3021.0</td>\n      <td>16.5</td>\n      <td>73</td>\n      <td>1</td>\n    </tr>\n    <tr>\n      <td>330</td>\n      <td>4</td>\n      <td>85.0</td>\n      <td>NaN</td>\n      <td>1835.0</td>\n      <td>17.3</td>\n      <td>80</td>\n      <td>2</td>\n    </tr>\n    <tr>\n      <td>57</td>\n      <td>4</td>\n      <td>113.0</td>\n      <td>95.0</td>\n      <td>2278.0</td>\n      <td>15.5</td>\n      <td>72</td>\n      <td>3</td>\n    </tr>\n    <tr>\n      <td>160</td>\n      <td>6</td>\n      <td>231.0</td>\n      <td>110.0</td>\n      <td>3907.0</td>\n      <td>21.0</td>\n      <td>75</td>\n      <td>1</td>\n    </tr>\n    <tr>\n      <td>...</td>\n      <td>...</td>\n      <td>...</td>\n      <td>...</td>\n      <td>...</td>\n      <td>...</td>\n      <td>...</td>\n      <td>...</td>\n    </tr>\n    <tr>\n      <td>266</td>\n      <td>4</td>\n      <td>98.0</td>\n      <td>68.0</td>\n      <td>2155.0</td>\n      <td>16.5</td>\n      <td>78</td>\n      <td>1</td>\n    </tr>\n    <tr>\n      <td>389</td>\n      <td>6</td>\n      <td>232.0</td>\n      <td>112.0</td>\n      <td>2835.0</td>\n      <td>14.7</td>\n      <td>82</td>\n      <td>1</td>\n    </tr>\n    <tr>\n      <td>217</td>\n      <td>4</td>\n      <td>111.0</td>\n      <td>80.0</td>\n      <td>2155.0</td>\n      <td>14.8</td>\n      <td>77</td>\n      <td>1</td>\n    </tr>\n    <tr>\n      <td>66</td>\n      <td>8</td>\n      <td>304.0</td>\n      <td>150.0</td>\n      <td>3672.0</td>\n      <td>11.5</td>\n      <td>72</td>\n      <td>1</td>\n    </tr>\n    <tr>\n      <td>240</td>\n      <td>4</td>\n      <td>97.0</td>\n      <td>78.0</td>\n      <td>2190.0</td>\n      <td>14.1</td>\n      <td>77</td>\n      <td>2</td>\n    </tr>\n  </tbody>\n</table>\n<p>80 rows × 7 columns</p>\n</div>"
     },
     "metadata": {},
     "execution_count": 11
    }
   ],
   "source": [
    "#separate feature and target variable\n",
    "\n",
    "data = strat_test_set.drop(\"MPG\", axis = 1)\n",
    "data_labels = strat_train_set[\"MPG\"].copy()\n",
    "\n",
    "data"
   ]
  },
  {
   "cell_type": "code",
   "execution_count": null,
   "metadata": {},
   "outputs": [],
   "source": []
  }
 ]
}